{
 "cells": [
  {
   "cell_type": "code",
   "execution_count": null,
   "metadata": {},
   "outputs": [],
   "source": [
    "from math import *\n",
    "import numpy as np\n",
    "import matplotlib.pyplot as plt"
   ]
  },
  {
   "cell_type": "code",
   "execution_count": null,
   "metadata": {
    "scrolled": true
   },
   "outputs": [],
   "source": [
    "#Zadanie 1\n",
    "x = np.arange(-2*np.pi, 2*np.pi, 0.05)\n",
    "y = np.sin(x)\n",
    "print(plt.plot(x,y))\n",
    "\n",
    "epsilon = np.random.rand(len(x))\n",
    "z = y + epsilon\n",
    "print(plt.plot(x,z))"
   ]
  },
  {
   "cell_type": "code",
   "execution_count": null,
   "metadata": {},
   "outputs": [],
   "source": [
    "#Zadanie 2\n",
    "\n",
    "numberOfThrows = np.arange(10, 10000, 10)\n",
    "result = np.array([0,0,0,0,0,0])\n",
    "\n",
    "for n in numberOfThrows:\n",
    "    throwedNumbers = np.random.randint(1, 7, [n])\n",
    "    \n",
    "    ones = throwedNumbers[throwedNumbers==1].size\n",
    "    twos = throwedNumbers[throwedNumbers==2].size\n",
    "    threes = throwedNumbers[throwedNumbers==3].size\n",
    "    fours = throwedNumbers[throwedNumbers==4].size\n",
    "    fives = throwedNumbers[throwedNumbers==5].size\n",
    "    sixes = throwedNumbers[throwedNumbers==6].size\n",
    "    result =  np.vstack((result,[ones, twos, threes, fours, fives, sixes]))\n",
    "\n",
    "result = np.delete(result, (0), axis=0)\n",
    "x = np.arange(1, 7, 1)\n",
    "\n",
    "index = numberOfThrows.size-1\n",
    "y = [result[index][0],result[index][1],result[index][2],result[index][3],result[index][4],result[index][5]]\n",
    "print(y)\n",
    "print(plt.plot(x,y))\n"
   ]
  },
  {
   "cell_type": "code",
   "execution_count": null,
   "metadata": {},
   "outputs": [],
   "source": [
    "# Zadanie 3\n",
    "vector = np.random.randint(1, 1001, 1000)\n",
    "\n",
    "print(vector[vector % 2 == 0].size)\n",
    "print(vector[vector % 2 == 1].size)"
   ]
  },
  {
   "cell_type": "code",
   "execution_count": null,
   "metadata": {},
   "outputs": [],
   "source": [
    "# Zadanie 4\n",
    "\n",
    "matrix = np.zeros((5,5))\n",
    "print(matrix) \n",
    "\n",
    "matrix = np.random.randint(1, 1001, 25).reshape((5, 5))\n",
    "print(matrix) \n",
    "\n",
    "matrix[matrix % 2 == 0] = 10\n",
    "matrix[(matrix != 10) & (matrix % 2 == 1)] = 0\n",
    "matrix[matrix == 10] = 1\n",
    "print(matrix)"
   ]
  },
  {
   "cell_type": "code",
   "execution_count": null,
   "metadata": {},
   "outputs": [],
   "source": [
    "# Zadanie 5\n",
    "\n",
    "matrix = np.random.randint(1, 1001, 100).reshape((10, 10))\n",
    "print(matrix)\n",
    "\n",
    "matrix[:3, :3] = 1\n",
    "matrix[7:, 7:] = 1\n",
    "print(matrix)"
   ]
  },
  {
   "cell_type": "code",
   "execution_count": null,
   "metadata": {},
   "outputs": [],
   "source": [
    "# Zadanie 6\n",
    "\n",
    "vec1 = np.random.randint(0,10,(2,2))\n",
    "print(vec1)\n",
    "vec2 = np.random.randint(0,10,(2,2))\n",
    "print(vec2)\n",
    "\n",
    "print('Iloczyn:',end=' ')\n",
    "print(vec1.dot(vec2))\n",
    "\n",
    "print('Suma:',end=' ')\n",
    "print(sum(vec1, vec2))"
   ]
  },
  {
   "cell_type": "code",
   "execution_count": null,
   "metadata": {},
   "outputs": [],
   "source": []
  }
 ],
 "metadata": {
  "kernelspec": {
   "display_name": "Python 3",
   "language": "python",
   "name": "python3"
  },
  "language_info": {
   "codemirror_mode": {
    "name": "ipython",
    "version": 3
   },
   "file_extension": ".py",
   "mimetype": "text/x-python",
   "name": "python",
   "nbconvert_exporter": "python",
   "pygments_lexer": "ipython3",
   "version": "3.7.1"
  },
  "varInspector": {
   "cols": {
    "lenName": 16,
    "lenType": 16,
    "lenVar": "100"
   },
   "kernels_config": {
    "python": {
     "delete_cmd_postfix": "",
     "delete_cmd_prefix": "del ",
     "library": "var_list.py",
     "varRefreshCmd": "print(var_dic_list())"
    },
    "r": {
     "delete_cmd_postfix": ") ",
     "delete_cmd_prefix": "rm(",
     "library": "var_list.r",
     "varRefreshCmd": "cat(var_dic_list()) "
    }
   },
   "types_to_exclude": [
    "module",
    "function",
    "builtin_function_or_method",
    "instance",
    "_Feature"
   ],
   "window_display": false
  }
 },
 "nbformat": 4,
 "nbformat_minor": 2
}
