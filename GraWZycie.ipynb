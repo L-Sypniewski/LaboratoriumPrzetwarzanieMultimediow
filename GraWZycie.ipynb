{
 "cells": [
  {
   "cell_type": "code",
   "execution_count": null,
   "metadata": {},
   "outputs": [],
   "source": [
    "# %load C:\\Users\\student\\Downloads\\python_life_lab\\python_life_lab.py\n",
    "\"\"\"\n",
    "Materiał do laboratorium z przedmiotu Przetwarzanie Multimediów\n",
    "FTIMS, PG\n",
    "sem. letni, 2018/2019\n",
    "\"\"\"\n",
    "\n",
    "\n",
    "# =============================================================================\n",
    "# Tworzenie funkcji\n",
    "# =============================================================================\n",
    "def foo(a,b,c):\n",
    "    return a+b+c\n",
    "\n",
    "\n",
    "#Przyklad tworzenie funkcji z notką dokumentacyjną (\"docstring\")\n",
    "#Sprawdz, ze notka dokumentacyjna jest wyswietlana podczas introspekcji obiektu\n",
    "# ?foo2\n",
    "def foo2(mat):\n",
    "    \"\"\"\n",
    "    Funkcja wykonuje dodanie do macierzy 3x3 podanej jako arguemnt \n",
    "    macierzy jedynek\n",
    "    ---\n",
    "    Uwaga: funkcja nie bada poprawnosci przekazanego argument\n",
    "    \"\"\"\n",
    "    jedynki = np.ones((3,3))\n",
    "    return mat + jedynki \n",
    "\n",
    "\n",
    "foo2(np.ones((3,3)))\n",
    "?foo2\n",
    "\n",
    "#Wariant funkcji foo2 z asercją\n",
    "def foo2(mat):\n",
    "    \"\"\"\n",
    "    Funkcja wykonuje dodanie do macierzy 3x3 podanej jako arguemnt \n",
    "    macierzy jedynek\n",
    "    \"\"\"\n",
    "    assert mat.shape == (3,3),\"Niepoprawny wymiary macierzy. Koniecznie 3x3\"\n",
    "    jedynki = np.ones((3,3))\n",
    "    return mat + jedynki \n",
    "\n",
    "#test\n",
    "foo2(np.ones((4,4)))\n",
    "foo2(np.ones((3,3)))\n",
    "\n",
    "\n",
    "# =============================================================================\n",
    "# Zadanie. Gra w zycie (life game)\n",
    "# Przeprowadź symulację gry w życie wg reguł Conwaya (https://pl.wikipedia.org/wiki/Gra_w_%C5%BCycie)\n",
    "# Rozpatrz stany początkowe planszy zawierające obok rozkładu losowego struktury oscylatorów, np. statki (spaceships).\n",
    "# Postać planszy po każdym etapie zapisz w pliku jpg.\n",
    "# Przyjmij, że inicjalny stan planszy jest losowy (np. komórka żywa z prawdopodobieństwem 0.1)\n",
    "# Plansza powinna mieć wymiar co najmniej 100x100.\n",
    "# Podpowiedź: do zapisu obrazu możesz wykorzystać instrukcję imsave z pakietu matplotlib.pyplot\n",
    "# \n",
    "# =============================================================================\n"
   ]
  },
  {
   "cell_type": "code",
   "execution_count": null,
   "metadata": {},
   "outputs": [],
   "source": [
    "from math import *\n",
    "import numpy as np\n",
    "import matplotlib.pyplot as plt"
   ]
  },
  {
   "cell_type": "code",
   "execution_count": null,
   "metadata": {},
   "outputs": [],
   "source": [
    "def ustawGlider(plansza):\n",
    "    plansza[3:8,3:8] = 0\n",
    "    plansza[4:5,4:7] = 1\n",
    "    plansza[5:6,4:5] = 1\n",
    "    plansza[6:7,5:6] = 1\n",
    "    "
   ]
  },
  {
   "cell_type": "code",
   "execution_count": null,
   "metadata": {},
   "outputs": [],
   "source": [
    "def znajdzIloscSasiadow(plansza, wartosc):\n",
    "    rowsNumber = plansza.shape[0]\n",
    "    columnsNumber = plansza.shape[1]\n",
    "    counter = 0\n",
    "    for i in range(0, rowsNumber):\n",
    "        for j in range(0, columnsNumber):\n",
    "            if plansza[rowsNumber+1]\n",
    "            \n",
    "        \n",
    "    "
   ]
  },
  {
   "cell_type": "code",
   "execution_count": 40,
   "metadata": {},
   "outputs": [
    {
     "name": "stdout",
     "output_type": "stream",
     "text": [
      "1.0\n"
     ]
    }
   ],
   "source": [
    "print(plansza[1])"
   ]
  },
  {
   "cell_type": "code",
   "execution_count": 36,
   "metadata": {},
   "outputs": [
    {
     "name": "stdout",
     "output_type": "stream",
     "text": [
      "[[1. 1.]\n",
      " [1. 1.]\n",
      " [1. 1.]\n",
      " [1. 1.]\n",
      " [1. 1.]\n",
      " [1. 1.]\n",
      " [1. 1.]\n",
      " [1. 1.]\n",
      " [1. 1.]\n",
      " [1. 1.]\n",
      " [1. 1.]\n",
      " [1. 1.]\n",
      " [1. 1.]\n",
      " [1. 1.]\n",
      " [1. 1.]\n",
      " [1. 1.]\n",
      " [1. 1.]\n",
      " [1. 1.]\n",
      " [1. 1.]\n",
      " [1. 1.]]\n"
     ]
    }
   ],
   "source": [
    "plansza = np.ones((20, 2))\n",
    "ustawGlider(plansza)\n",
    "print(plansza)"
   ]
  }
 ],
 "metadata": {
  "kernelspec": {
   "display_name": "Python 3",
   "language": "python",
   "name": "python3"
  },
  "language_info": {
   "codemirror_mode": {
    "name": "ipython",
    "version": 3
   },
   "file_extension": ".py",
   "mimetype": "text/x-python",
   "name": "python",
   "nbconvert_exporter": "python",
   "pygments_lexer": "ipython3",
   "version": "3.6.6"
  }
 },
 "nbformat": 4,
 "nbformat_minor": 2
}
