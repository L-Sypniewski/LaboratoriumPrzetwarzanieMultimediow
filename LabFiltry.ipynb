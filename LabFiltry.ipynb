{
 "cells": [
  {
   "cell_type": "code",
   "execution_count": 5,
   "metadata": {},
   "outputs": [
    {
     "name": "stdout",
     "output_type": "stream",
     "text": [
      "Using matplotlib backend: Qt5Agg\n",
      "(1521, 1080, 3)\n"
     ]
    },
    {
     "data": {
      "text/plain": [
       "<matplotlib.image.AxesImage at 0x7f52311aeeb8>"
      ]
     },
     "execution_count": 5,
     "metadata": {},
     "output_type": "execute_result"
    }
   ],
   "source": [
    "# %load python_obrazy_lab.py\n",
    "\"\"\"\n",
    "Laboratorium z Przetwarzania multimediów \n",
    "sem. 2018/2019\n",
    "Autor: Marcin Wilczewski\n",
    "\"\"\"\n",
    "\n",
    "#OBRAZY\n",
    "\n",
    "\n",
    "#Przykład 1\n",
    "#Wczytaj przykladowy obraz i do kazdego piksela takiego obrazu dodaj szum maksymalny (=255 w kazdym kanale)\n",
    "#z prawdopodobienstwem 0.1\n",
    "import matplotlib.pyplot as plt\n",
    "import numpy as np\n",
    "%matplotlib\n",
    "plt.close()\n",
    "img = plt.imread('image.jpg')\n",
    "plt.imshow(img,aspect = 'auto')\n",
    "plt.colorbar()\n",
    "\n",
    "print(img.shape)\n",
    "\n",
    "img2 = img.copy()\n",
    "for i in range(1,img2.shape[0]):\n",
    "    for j in range(1,img2.shape[1]):\n",
    "        if np.random.rand()<=0.1:\n",
    "            img2[i,j,:]=255\n",
    "            \n",
    "plt.imshow(img2)\n",
    "#KONIEC"
   ]
  },
  {
   "cell_type": "code",
   "execution_count": null,
   "metadata": {},
   "outputs": [],
   "source": [
    "#Przykład 2\n",
    "#Podobnie jak wyzej, ale dodaj szum bialy, tzn. piksel zastap pikselem (x,y,z) gdzie x,y,z sa liczbami losowymi\n",
    "#z przedzialu 0..255\n",
    "plt.close()\n",
    "img = plt.imread('rainbow_butterfly.jpg')\n",
    "plt.imshow(img,aspect = 'auto')\n",
    "plt.colorbar()\n",
    "#KONIEC"
   ]
  },
  {
   "cell_type": "code",
   "execution_count": null,
   "metadata": {},
   "outputs": [],
   "source": [
    "img2 = img.copy()\n",
    "for i in range(1,img2.shape[0]):\n",
    "    for j in range(1,img2.shape[1]):\n",
    "        if np.random.rand()<=0.3:\n",
    "            img2[i,j,0] = np.random.randint(0,256)\n",
    "            img2[i,j,1] = np.random.randint(0,256)\n",
    "            img2[i,j,2] = np.random.randint(0,256)\n",
    "\n",
    "plt.imshow(img2)\n",
    "#KONIEC"
   ]
  },
  {
   "cell_type": "code",
   "execution_count": 15,
   "metadata": {},
   "outputs": [
    {
     "name": "stdout",
     "output_type": "stream",
     "text": [
      "Using matplotlib backend: Qt5Agg\n",
      "6\n",
      "5\n"
     ]
    },
    {
     "data": {
      "text/plain": [
       "<matplotlib.image.AxesImage at 0x7f52300cceb8>"
      ]
     },
     "execution_count": 15,
     "metadata": {},
     "output_type": "execute_result"
    }
   ],
   "source": [
    "### =============================================================================\n",
    "# Zadania\n",
    "# =============================================================================\n",
    "\n",
    "#Zadanie 1\n",
    "#Wykonaj filtr wygladzajacy (usredniający) oraz medianowy dla roznych rozmiarów masek (np. 3x3 oraz 11x11)\n",
    "#Filtrację zrealizuj na dwa równoważne sposoby:\n",
    "# 1. korzystając z np.mean() oraz \n",
    "# 2. wykonując bezposrednio kombinację pikseli podobrazu z maską przekształcenia.\n",
    "#Wyniki filtracji zapisz w pliku (plt.imsave(\"nazwa_pliku\",obiekt_obrazu))\n",
    "\n",
    "import matplotlib.pyplot as plt\n",
    "import numpy as np\n",
    "%matplotlib\n",
    "plt.close()\n",
    "img = plt.imread('butterfly.jpg')\n",
    "\n",
    "#####ZADANIE 1.1\n",
    "filteredImage = np.zeros(img.shape)\n",
    "\n",
    "maskSize = 11\n",
    "mask = np.ndarray((maskSize,maskSize),dtype=int)\n",
    "firstAvailableIndex = int(mask.shape[0]/2+1)\n",
    "rozpietosc = mask.shape[0] - firstAvailableIndex\n",
    "print(firstAvailableIndex)\n",
    "print(rozpietosc)\n",
    "for index, value in np.ndenumerate(img):\n",
    "    row = index[0]\n",
    "    col = index[1]\n",
    "    channel = index[2]\n",
    "    if (col < firstAvailableIndex) or (row < firstAvailableIndex) or (row > img.shape[0] - firstAvailableIndex) or (col > img.shape[1] - firstAvailableIndex):\n",
    "        continue\n",
    "    mask = img[row-rozpietosc: row+rozpietosc+1, col-rozpietosc: col+rozpietosc+1, channel]\n",
    "    srednia = np.mean(mask)\n",
    "    filteredImage[index] = srednia\n",
    " \n",
    "plt.imshow(filteredImage/255)"
   ]
  },
  {
   "cell_type": "code",
   "execution_count": 22,
   "metadata": {
    "scrolled": false
   },
   "outputs": [
    {
     "name": "stdout",
     "output_type": "stream",
     "text": [
      "Using matplotlib backend: Qt5Agg\n"
     ]
    },
    {
     "name": "stderr",
     "output_type": "stream",
     "text": [
      "Clipping input data to the valid range for imshow with RGB data ([0..1] for floats or [0..255] for integers).\n"
     ]
    },
    {
     "data": {
      "text/plain": [
       "<matplotlib.image.AxesImage at 0x7fbf863e86d8>"
      ]
     },
     "execution_count": 22,
     "metadata": {},
     "output_type": "execute_result"
    }
   ],
   "source": [
    "#####ZADANIE 1.2\n",
    "import matplotlib.pyplot as plt\n",
    "import numpy as np\n",
    "%matplotlib\n",
    "plt.close()\n",
    "img = plt.imread('butterfly.jpg')\n",
    "\n",
    "def obliczWartoscNaPodstawieMacierzyWag(mask, macierzWag):\n",
    "    if mask.shape != macierzWag.shape:\n",
    "        raise ValueError('Maska i macierz wag musza miec identyczne wymiary!')\n",
    "    tempMacierz = mask * macierzWag\n",
    "    value = np.sum(tempMacierz) / tempMacierz.size\n",
    "    return value\n",
    "\n",
    "\n",
    "filteredImageSecond = np.zeros(img.shape)\n",
    "maskSize = 3\n",
    "macierz_wag = np.ones((maskSize,maskSize),dtype=int)\n",
    "\n",
    "# Wygladzanie krawedzi\n",
    "macierz_wag[0][0] = 1\n",
    "macierz_wag[0][1] = 0\n",
    "macierz_wag[0][2] = -1\n",
    "macierz_wag[1][1] = 2\n",
    "macierz_wag[1][1] = 0\n",
    "macierz_wag[1][1] = -2\n",
    "macierz_wag[2][0] = 1\n",
    "macierz_wag[2][1] = 0\n",
    "macierz_wag[2][2] = -1\n",
    "\n",
    "firstAvailableIndex = int(macierz_wag.shape[0]/2+1)\n",
    "rozpietosc = macierz_wag.shape[0] - firstAvailableIndex\n",
    "\n",
    "for index, value in np.ndenumerate(img):\n",
    "    row = index[0]\n",
    "    col = index[1]\n",
    "    channel = index[2]\n",
    "    if (col < firstAvailableIndex) or (row < firstAvailableIndex) or (row > img.shape[0] - firstAvailableIndex) or (col > img.shape[1] - firstAvailableIndex):\n",
    "        continue\n",
    "   \n",
    "    mask = img[row-rozpietosc: row+rozpietosc+1, col-rozpietosc: col+rozpietosc+1, channel]\n",
    "    srednia = obliczWartoscNaPodstawieMacierzyWag(mask, macierz_wag)\n",
    "    filteredImageSecond[index] = srednia\n",
    "    \n",
    "plt.imshow(filteredImageSecond/255)"
   ]
  },
  {
   "cell_type": "code",
   "execution_count": null,
   "metadata": {},
   "outputs": [],
   "source": [
    "# SASIEDZSTWO\n",
    "# PIXELE BRZEGOWE NIE RUSZANE\n",
    "# 3X3, 7X7 SASIEDZSTWO\n",
    "# NIE ROBIMY INLINE\n",
    "# WSKAZANIE MASKI PRZEKSZTALCENIA, MACIERZ WAG"
   ]
  },
  {
   "cell_type": "code",
   "execution_count": 20,
   "metadata": {},
   "outputs": [
    {
     "name": "stdout",
     "output_type": "stream",
     "text": [
      "Using matplotlib backend: Qt5Agg\n",
      "(897, 1317, 3)\n"
     ]
    },
    {
     "data": {
      "text/plain": [
       "<matplotlib.image.AxesImage at 0x7fbf86b6a400>"
      ]
     },
     "execution_count": 20,
     "metadata": {},
     "output_type": "execute_result"
    }
   ],
   "source": [
    "#Zadanie 2\n",
    "#Wykonaj efekt \"bathroom window effect\"\n",
    "# Efekt jest realizowany przez filtrację, gdzie i,j piksel (w każdym kanale barwnym) jest transformowany \n",
    "# w następujący sposób:\n",
    "#  f(i,j,kanał ) = f(i+(i%10)-4,j+(j%10)-4,kanał)\n",
    "\n",
    "import matplotlib.pyplot as plt\n",
    "import numpy as np\n",
    "\n",
    "%matplotlib\n",
    "plt.close()\n",
    "\n",
    "def applyBathroomWindowEffect(img):\n",
    "    newImage = np.ones(img.shape)\n",
    "    for index, value in np.ndenumerate(img):\n",
    "        row = index[0]\n",
    "        col = index[1]\n",
    "        channel = index[2]\n",
    "        \n",
    "        maxRow = img.shape[0]\n",
    "        maxCol = img.shape[1]\n",
    "    \n",
    "        newRow = row+(row%10)-4\n",
    "        newCol = col+(col%10)-4\n",
    "        if newRow >= 0 and newRow < maxRow and newCol > 0 and newCol < maxCol:\n",
    "            newImage[row][col][channel] = img[newRow][newCol][channel]\n",
    "    return newImage\n",
    "\n",
    "\n",
    "img = plt.imread('butterfly.jpg')\n",
    "print(img.shape)\n",
    "newImage = applyBathroomWindowEffect(img)\n",
    "plt.imshow(newImage/255)\n",
    "\n",
    "        "
   ]
  }
 ],
 "metadata": {
  "kernelspec": {
   "display_name": "Python 3",
   "language": "python",
   "name": "python3"
  },
  "language_info": {
   "codemirror_mode": {
    "name": "ipython",
    "version": 3
   },
   "file_extension": ".py",
   "mimetype": "text/x-python",
   "name": "python",
   "nbconvert_exporter": "python",
   "pygments_lexer": "ipython3",
   "version": "3.7.1"
  },
  "varInspector": {
   "cols": {
    "lenName": 16,
    "lenType": 16,
    "lenVar": "100"
   },
   "kernels_config": {
    "python": {
     "delete_cmd_postfix": "",
     "delete_cmd_prefix": "del ",
     "library": "var_list.py",
     "varRefreshCmd": "print(var_dic_list())"
    },
    "r": {
     "delete_cmd_postfix": ") ",
     "delete_cmd_prefix": "rm(",
     "library": "var_list.r",
     "varRefreshCmd": "cat(var_dic_list()) "
    }
   },
   "types_to_exclude": [
    "module",
    "function",
    "builtin_function_or_method",
    "instance",
    "_Feature"
   ],
   "window_display": false
  }
 },
 "nbformat": 4,
 "nbformat_minor": 2
}
