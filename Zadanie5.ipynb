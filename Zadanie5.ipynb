{
 "cells": [
  {
   "cell_type": "code",
   "execution_count": 12,
   "metadata": {},
   "outputs": [
    {
     "name": "stdout",
     "output_type": "stream",
     "text": [
      "Using matplotlib backend: Qt5Agg\n"
     ]
    },
    {
     "data": {
      "text/plain": [
       "<matplotlib.image.AxesImage at 0x7f9c51fc52e8>"
      ]
     },
     "execution_count": 12,
     "metadata": {},
     "output_type": "execute_result"
    }
   ],
   "source": [
    "# =============================================================================\n",
    "# Zadanie 1\n",
    "# Zmodyfikuj obraz cyfrowy pozostawiając oryginale wartoci pikseli tylko w tych przypadkach gdzie wartosc\n",
    "# skladowej BLUE przekracza 0.5 wartosci maksymalnej tej skladowej w calym obrazie.\n",
    "# Poszczególne składowe RGB wszystkich pozostałych pikseli zastąp wartoscią srednią RGB w danym pikselu (to oznacza, ze\n",
    "# takie piksele staną się szare).\n",
    "# \n",
    "# =============================================================================\n",
    "\n",
    "\n",
    "import matplotlib.pyplot as plt\n",
    "import numpy as np\n",
    "%matplotlib\n",
    "plt.close()\n",
    "\n",
    "\n",
    "def findMaxBlueValue(img):\n",
    "    return int(np.amax(img[:,:,2]))\n",
    "\n",
    "def findMeanRGBValueOfPixel(img, row, col):\n",
    "    return int((img[row][col][:].mean()))\n",
    "\n",
    "def processZad1(img):\n",
    "    newImage = np.ones(img.shape)\n",
    "    blueValueTreshold = int(findMaxBlueValue(img) / 2)\n",
    "    for index, value in np.ndenumerate(img):\n",
    "        row = index[0]\n",
    "        col = index[1]\n",
    "        channel = index[2]\n",
    "        \n",
    "        if img[row][col][0] <= blueValueTreshold:\n",
    "            newImage[row][col][:] = findMeanRGBValueOfPixel(img, row, col)\n",
    "        else:\n",
    "            newImage[index] = img[index]\n",
    "    return newImage\n",
    "\n",
    "\n",
    "img = plt.imread('image.jpg')\n",
    "findMaxBlueValue(img)\n",
    "newImage = processZad1(img)\n",
    "plt.imshow(newImage/255)\n"
   ]
  },
  {
   "cell_type": "code",
   "execution_count": null,
   "metadata": {},
   "outputs": [],
   "source": [
    "# =============================================================================\n",
    "# Zadanie 2\n",
    "# Wykonaj transformację obrazu cyfrowego w taki sposób, że wartosc kazdego i-tego piksel kazdego wiersza \n",
    "# obrazu zastap wartoscia piksela i+1.\n",
    "# Następnie wyswietl niewielki podobraz oryginalnego obrazu, np. 10x10 pikseli i zweryfikuj, \n",
    "# ze operacja przebiegla zgodnie z oczekiwaniami.\n",
    "# \n",
    "# =============================================================================\n",
    "import matplotlib.pyplot as plt\n",
    "import numpy as np\n",
    "%matplotlib\n",
    "plt.close()\n",
    "\n",
    "def processZad2(img):\n",
    "    newImage = np.ones(img.shape)\n",
    "    rowsNumber = img.shape[0]\n",
    "    for index, value in np.ndenumerate(img):\n",
    "        row = index[0]\n",
    "        col = index[1]\n",
    "        channel = index[2]\n",
    "        \n",
    "        if row == rowsNumber - 1:\n",
    "            newImage[index] = img[0][col][channel]\n",
    "        else:\n",
    "            newImage[index] = img[row+1][col][channel]\n",
    "    return newImage\n",
    "\n",
    "\n",
    "img = plt.imread('image.jpg')\n",
    "findMaxBlueValue(img)\n",
    "newImage = processZad2(img)\n",
    "plt.imshow(newImage/255)\n",
    "\n",
    "print(img[11][0])\n",
    "print('-------------------------------')\n",
    "print(newImage[10][0])\n",
    "print('-------------------------------\\n\\n\\n\\n')\n",
    "\n",
    "print(img[21:32] == newImage[20:31])"
   ]
  },
  {
   "cell_type": "code",
   "execution_count": 6,
   "metadata": {},
   "outputs": [
    {
     "name": "stdout",
     "output_type": "stream",
     "text": [
      "Using matplotlib backend: Qt5Agg\n",
      "numberOfBlocksVertically: 21, numberOfBlocksHorizontally:32\n",
      "(337, 512)\n",
      "**************************\n",
      "numberOfBlocksVertically: 21, numberOfBlocksHorizontally:32\n",
      "(337, 512)\n",
      "**************************\n",
      "numberOfBlocksVertically: 21, numberOfBlocksHorizontally:32\n",
      "(337, 512)\n",
      "**************************\n"
     ]
    },
    {
     "data": {
      "text/plain": [
       "<matplotlib.image.AxesImage at 0x7f9c582a0588>"
      ]
     },
     "execution_count": 6,
     "metadata": {},
     "output_type": "execute_result"
    }
   ],
   "source": [
    "# =============================================================================\n",
    "# Zadanie 3 \n",
    "# Przetworz obraz cyfrowy tak, aby piksel w kazdym bloku nxn obrazu (dla n=4,8,16,32)\n",
    "# zastapic srednia wartoscią pikseli z bloku. Operacje wykonaj niezaleznie w kazdym kanale barwnym obrazu RGB.\n",
    "# Operację należy wykonać w każdym z \"wirtualnych\", niezachodzących na siebie podobrazów. \n",
    "# \n",
    "# =============================================================================\n",
    "import matplotlib.pyplot as plt\n",
    "import numpy as np\n",
    "%matplotlib\n",
    "plt.close()\n",
    "\n",
    "def meanImageForGivenColorChannel(img, blockSize, channelIndex):\n",
    "    numberOfBlocksVertically = int(img.shape[0] / blockSize)\n",
    "    numberOfBlocksHorizontally = int(img.shape[1] / blockSize)\n",
    "    print(\"numberOfBlocksVertically: {}, numberOfBlocksHorizontally:{}\".format(numberOfBlocksVertically,\n",
    "                                                                               numberOfBlocksHorizontally))\n",
    "    \n",
    "    newImage = np.ones((img.shape[0], img.shape[1]))\n",
    "    print(newImage.shape)\n",
    "    print('**************************')\n",
    "    \n",
    "    for col in range(0, newImage.shape[1], blockSize ):\n",
    "        for row in range(0, newImage.shape[0], blockSize):\n",
    "            subarray = img[row:row+blockSize, col:col+blockSize, channelIndex]\n",
    "            mean = int(subarray.mean())\n",
    "            newImage[row:row+blockSize, col:col+blockSize] = mean\n",
    "    return newImage\n",
    "\n",
    "def imageWithMeanBlocks(img, blockSize):\n",
    "    finalImage = np.ones(img.shape)\n",
    "    \n",
    "    imageRed = meanImageForGivenColorChannel(img, blockSize, 0)\n",
    "    imageGreen = meanImageForGivenColorChannel(img, blockSize, 1)\n",
    "    imageBlue = meanImageForGivenColorChannel(img, blockSize, 2)\n",
    "    \n",
    "    finalImage[:,:,0] = imageRed\n",
    "    finalImage[:,:,1] = imageGreen\n",
    "    finalImage[:,:,2] = imageBlue\n",
    "    \n",
    "    return finalImage\n",
    "\n",
    "img = plt.imread('image.jpg')\n",
    "blockSize = 16\n",
    "plt.imshow(imageWithMeanBlocks(img, blockSize)/255)\n"
   ]
  }
 ],
 "metadata": {
  "kernelspec": {
   "display_name": "Python 3",
   "language": "python",
   "name": "python3"
  },
  "language_info": {
   "codemirror_mode": {
    "name": "ipython",
    "version": 3
   },
   "file_extension": ".py",
   "mimetype": "text/x-python",
   "name": "python",
   "nbconvert_exporter": "python",
   "pygments_lexer": "ipython3",
   "version": "3.7.1"
  },
  "varInspector": {
   "cols": {
    "lenName": 16,
    "lenType": 16,
    "lenVar": "100"
   },
   "kernels_config": {
    "python": {
     "delete_cmd_postfix": "",
     "delete_cmd_prefix": "del ",
     "library": "var_list.py",
     "varRefreshCmd": "print(var_dic_list())"
    },
    "r": {
     "delete_cmd_postfix": ") ",
     "delete_cmd_prefix": "rm(",
     "library": "var_list.r",
     "varRefreshCmd": "cat(var_dic_list()) "
    }
   },
   "types_to_exclude": [
    "module",
    "function",
    "builtin_function_or_method",
    "instance",
    "_Feature"
   ],
   "window_display": false
  }
 },
 "nbformat": 4,
 "nbformat_minor": 2
}
