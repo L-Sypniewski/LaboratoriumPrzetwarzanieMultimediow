{
 "cells": [
  {
   "cell_type": "code",
   "execution_count": null,
   "metadata": {},
   "outputs": [],
   "source": [
    "# %load C:\\Users\\student\\Downloads\\python_life_lab\\python_life_lab.py\n",
    "\"\"\"\n",
    "Materiał do laboratorium z przedmiotu Przetwarzanie Multimediów\n",
    "FTIMS, PG\n",
    "sem. letni, 2018/2019\n",
    "\"\"\"\n",
    "\n",
    "\n",
    "# =============================================================================\n",
    "# Tworzenie funkcji\n",
    "# =============================================================================\n",
    "def foo(a,b,c):\n",
    "    return a+b+c\n",
    "\n",
    "\n",
    "#Przyklad tworzenie funkcji z notką dokumentacyjną (\"docstring\")\n",
    "#Sprawdz, ze notka dokumentacyjna jest wyswietlana podczas introspekcji obiektu\n",
    "# ?foo2\n",
    "def foo2(mat):\n",
    "    \"\"\"\n",
    "    Funkcja wykonuje dodanie do macierzy 3x3 podanej jako arguemnt \n",
    "    macierzy jedynek\n",
    "    ---\n",
    "    Uwaga: funkcja nie bada poprawnosci przekazanego argument\n",
    "    \"\"\"\n",
    "    jedynki = np.ones((3,3))\n",
    "    return mat + jedynki \n",
    "\n",
    "\n",
    "foo2(np.ones((3,3)))\n",
    "?foo2\n",
    "\n",
    "#Wariant funkcji foo2 z asercją\n",
    "def foo2(mat):\n",
    "    \"\"\"\n",
    "    Funkcja wykonuje dodanie do macierzy 3x3 podanej jako arguemnt \n",
    "    macierzy jedynek\n",
    "    \"\"\"\n",
    "    assert mat.shape == (3,3),\"Niepoprawny wymiary macierzy. Koniecznie 3x3\"\n",
    "    jedynki = np.ones((3,3))\n",
    "    return mat + jedynki \n",
    "\n",
    "#test\n",
    "foo2(np.ones((4,4)))\n",
    "foo2(np.ones((3,3)))\n",
    "\n",
    "\n",
    "# =============================================================================\n",
    "# Zadanie. Gra w zycie (life game)\n",
    "# Przeprowadź symulację gry w życie wg reguł Conwaya (https://pl.wikipedia.org/wiki/Gra_w_%C5%BCycie)\n",
    "# Rozpatrz stany początkowe planszy zawierające obok rozkładu losowego struktury oscylatorów, np. statki (spaceships).\n",
    "# Postać planszy po każdym etapie zapisz w pliku jpg.\n",
    "# Przyjmij, że inicjalny stan planszy jest losowy (np. komórka żywa z prawdopodobieństwem 0.1)\n",
    "# Plansza powinna mieć wymiar co najmniej 100x100.\n",
    "# Podpowiedź: do zapisu obrazu możesz wykorzystać instrukcję imsave z pakietu matplotlib.pyplot\n",
    "# \n",
    "# =============================================================================\n"
   ]
  },
  {
   "cell_type": "code",
   "execution_count": null,
   "metadata": {},
   "outputs": [],
   "source": [
    "from math import *\n",
    "import numpy as np\n",
    "import matplotlib.pyplot as plt"
   ]
  },
  {
   "cell_type": "code",
   "execution_count": null,
   "metadata": {},
   "outputs": [],
   "source": [
    "def stworzPlansze(rows, cols):\n",
    "    return np.ones((rows, cols))"
   ]
  },
  {
   "cell_type": "code",
   "execution_count": null,
   "metadata": {},
   "outputs": [],
   "source": [
    "def ustawGlider(plansza):\n",
    "    plansza[3:8,3:8] = 0\n",
    "    plansza[4:5,4:7] = 1\n",
    "    plansza[5:6,4:5] = 1\n",
    "    plansza[6:7,5:6] = 1"
   ]
  },
  {
   "cell_type": "code",
   "execution_count": null,
   "metadata": {},
   "outputs": [],
   "source": [
    "def zapelnijPlansze(plansza, prawdopodobienstwoZywej):\n",
    "    rowsNumber = plansza.shape[0]\n",
    "    columnsNumber = plansza.shape[1]\n",
    "    \n",
    "    for index, value in np.ndenumerate(plansza):\n",
    "        randomInt = np.random.randint(1, 101)\n",
    "            \n",
    "        if prawdopodobienstwoZywej*100 >= randomInt:\n",
    "            plansza[index[0],index[1]] = 1\n",
    "        else:\n",
    "            plansza[index[0],index[1]] = 0"
   ]
  },
  {
   "cell_type": "code",
   "execution_count": null,
   "metadata": {},
   "outputs": [],
   "source": [
    "def getPlanszaZiterowana(plansza):\n",
    "    nowaPlansza = np.zeros(plansza.shape)\n",
    "    \n",
    "    for index, value in np.ndenumerate(plansza):\n",
    "        row = index[0]\n",
    "        col = index[1]\n",
    "        \n",
    "        if value == 0:\n",
    "            iloscZywychSasiadowMartwej = znajdzIloscSasiadowDlaElementu(plansza, row, col, 1)\n",
    "            if iloscZywychSasiadowMartwej == 3:\n",
    "                nowaPlansza[row,col] = 1\n",
    "        elif value == 1:\n",
    "             iloscZywychSasiadowZywej = znajdzIloscSasiadowDlaElementu(plansza, row, col, 1)\n",
    "             if iloscZywychSasiadowZywej == 3 or iloscZywychSasiadowZywej == 2:\n",
    "                 nowaPlansza[row,col] = 1\n",
    "             else:\n",
    "                 nowaPlansza[row,col] = 0\n",
    "                    \n",
    "    return nowaPlansza"
   ]
  },
  {
   "cell_type": "code",
   "execution_count": null,
   "metadata": {},
   "outputs": [],
   "source": [
    "def znajdzIloscSasiadowDlaElementu(plansza, row, col, wartosc):\n",
    "    suma = 0\n",
    "    suma = suma + czyPoleZawieraWartosc(plansza, wartosc, row=row-1, col=col-1)\n",
    "    suma = suma + czyPoleZawieraWartosc(plansza, wartosc, row=row-1, col=col)\n",
    "    suma = suma + czyPoleZawieraWartosc(plansza, wartosc, row=row-1, col=col+1)\n",
    "    suma = suma + czyPoleZawieraWartosc(plansza, wartosc, row=row, col=col-1)\n",
    "    suma = suma + czyPoleZawieraWartosc(plansza, wartosc, row=row, col=col+1)\n",
    "    suma = suma + czyPoleZawieraWartosc(plansza, wartosc, row=row+1, col=col-1)\n",
    "    suma = suma + czyPoleZawieraWartosc(plansza, wartosc, row=row+1, col=col)\n",
    "    suma = suma + czyPoleZawieraWartosc(plansza, wartosc, row=row+1, col=col+1)\n",
    "    return suma\n",
    "            \n",
    "          \n",
    "def czyPoleZawieraWartosc(plansza, wartosc, row, col):\n",
    "    try:\n",
    "        if plansza[row,col] == wartosc and row >= 0 and col >= 0:\n",
    "            return 1\n",
    "        else:\n",
    "            return 0\n",
    "    except:\n",
    "        return 0"
   ]
  },
  {
   "cell_type": "code",
   "execution_count": null,
   "metadata": {},
   "outputs": [],
   "source": [
    "plansza = stworzPlansze(100, 100)\n",
    "zapelnijPlansze(plansza, prawdopodobienstwoZywej=0.1)\n",
    "ustawGlider(plansza)\n",
    "\n",
    "numberOfIterations = 1000\n",
    "ziterowanaPlansza = plansza\n",
    "for i in range(0, numberOfIterations):\n",
    "    print(\"Iteracja {}\".format(i))\n",
    "    \n",
    "    plt.figure(figsize=(20,20))\n",
    "    im = plt.matshow(ziterowanaPlansza)\n",
    "    \n",
    "    rows = plansza.shape[0]\n",
    "    cols = plansza.shape[1]\n",
    "    plt.title('Iteracja {}, plansza o wymiarach {}x{}'.format(i, rows, cols))\n",
    "    plt.savefig('output_images/{}_wykres_{}x{}.png'.format(i, rows, cols), dpi=300)\n",
    "    plt.close()\n",
    "    \n",
    "    ziterowanaPlansza = getPlanszaZiterowana(ziterowanaPlansza)"
   ]
  },
  {
   "cell_type": "code",
   "execution_count": null,
   "metadata": {},
   "outputs": [],
   "source": []
  },
  {
   "cell_type": "code",
   "execution_count": null,
   "metadata": {},
   "outputs": [],
   "source": []
  }
 ],
 "metadata": {
  "kernelspec": {
   "display_name": "Python 3",
   "language": "python",
   "name": "python3"
  },
  "language_info": {
   "codemirror_mode": {
    "name": "ipython",
    "version": 3
   },
   "file_extension": ".py",
   "mimetype": "text/x-python",
   "name": "python",
   "nbconvert_exporter": "python",
   "pygments_lexer": "ipython3",
   "version": "3.7.1"
  },
  "varInspector": {
   "cols": {
    "lenName": 16,
    "lenType": 16,
    "lenVar": "100"
   },
   "kernels_config": {
    "python": {
     "delete_cmd_postfix": "",
     "delete_cmd_prefix": "del ",
     "library": "var_list.py",
     "varRefreshCmd": "print(var_dic_list())"
    },
    "r": {
     "delete_cmd_postfix": ") ",
     "delete_cmd_prefix": "rm(",
     "library": "var_list.r",
     "varRefreshCmd": "cat(var_dic_list()) "
    }
   },
   "types_to_exclude": [
    "module",
    "function",
    "builtin_function_or_method",
    "instance",
    "_Feature"
   ],
   "window_display": false
  }
 },
 "nbformat": 4,
 "nbformat_minor": 2
}
